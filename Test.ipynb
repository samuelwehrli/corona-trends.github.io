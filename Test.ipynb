{
 "cells": [
  {
   "cell_type": "markdown",
   "metadata": {},
   "source": [
    "# Corona Trends in Denmark, Sweden and Switzerland\n",
    "\n",
    "The following tables and figures display Covid-19 data for Denmark, Sweden and Switzerland. Data is taken from the John Hopkins University [github repository](https://github.com/CSSEGISandData/COVID-19). The dynamics for these countries clearly differ..."
   ]
  },
  {
   "cell_type": "code",
   "execution_count": null,
   "metadata": {},
   "outputs": [],
   "source": [
    "from IPython.display import HTML"
   ]
  },
  {
   "cell_type": "code",
   "execution_count": null,
   "metadata": {},
   "outputs": [],
   "source": [
    "HTML('''<script>\n",
    "code_show=true; \n",
    "function code_toggle() {\n",
    " if (code_show){\n",
    " $('div.input').hide();\n",
    " } else {\n",
    " $('div.input').show();\n",
    " }\n",
    " code_show = !code_show\n",
    "} \n",
    "$( document ).ready(code_toggle);\n",
    "</script>\n",
    "The raw code for this IPython notebook is by default hidden for easier reading.\n",
    "To toggle on/off the raw code, click <a href=\"javascript:code_toggle()\">here</a>.''')"
   ]
  },
  {
   "cell_type": "code",
   "execution_count": null,
   "metadata": {},
   "outputs": [],
   "source": [
    "import numpy as np\n",
    "import pandas as pd\n",
    "from scipy.signal import savgol_filter\n",
    "\n",
    "from corona import DataDownloader\n",
    "from corona import apply_to_column as a2c\n",
    "\n",
    "import plotly\n",
    "import plotly.express as px\n",
    "\n",
    "# jupyter nbconvert --to html --TemplateExporter.exclude_input=True --no-prompt Corona\\ Trends\\ in\\ Denmark\\,\\ Sweden\\ \\&\\ Switzerland.ipynb"
   ]
  },
  {
   "cell_type": "code",
   "execution_count": null,
   "metadata": {},
   "outputs": [],
   "source": [
    "population = pd.Series(name='population',data=\n",
    "    {'Denmark':5806000,\n",
    "     'Sweden':10230000,\n",
    "     'Switzerland':8570000})"
   ]
  },
  {
   "cell_type": "code",
   "execution_count": null,
   "metadata": {},
   "outputs": [],
   "source": [
    "countries = ['Switzerland','Sweden','Denmark']\n",
    "\n",
    "# load data and aggregate over states (elements of countries)\n",
    "df = (\n",
    "    DataDownloader().read_jhu()\n",
    "    .query('country in @countries')\n",
    "    .groupby(['country','serie','date'])\n",
    "    .sum()\n",
    "    .reset_index() \n",
    "    .sort_values(by=['country','serie','date']) )"
   ]
  },
  {
   "cell_type": "code",
   "execution_count": null,
   "metadata": {},
   "outputs": [],
   "source": [
    "# calculate number per 1 million\n",
    "df['cumulative1mio'] = df.cumulative / population.reindex(df.country).values * 1e6\n",
    "df['daily1mio'] = df.daily / population.reindex(df.country).values * 1e6"
   ]
  },
  {
   "cell_type": "markdown",
   "metadata": {},
   "source": [
    "## Statistics\n",
    "\n",
    "A few overall numbers. Observations\n",
    "- Sweden has the most deaths, both in absolute numbers and per million inhabitants\n",
    "- The ratio of confirmed to deaths cases is double in Sweden "
   ]
  },
  {
   "cell_type": "code",
   "execution_count": null,
   "metadata": {},
   "outputs": [],
   "source": [
    "statdf = (\n",
    "    df.groupby(['country','serie'])[['cumulative']]\n",
    "    .max()\n",
    "    .dropna()\n",
    "    .astype(int)\n",
    "    .reset_index()\n",
    "    .pivot(index='country',columns='serie',values='cumulative')\n",
    "    .sort_values('deaths',ascending=False)  \n",
    "    .join(population)\n",
    "    .assign(confirmed_1mio=lambda df: df.confirmed / df.population * 1e6)\n",
    "    .assign(deaths_1mio=lambda df: df.deaths / df.population * 1e6)\n",
    "    .astype(int)\n",
    ")\n",
    "\n",
    "statdf['confirmed_deaths_percent'] =  np.round(statdf.deaths/statdf.confirmed *100,1)\n",
    "statdf.head()"
   ]
  },
  {
   "cell_type": "markdown",
   "metadata": {},
   "source": [
    "## Daily cases\n",
    "\n",
    "Trend lines are running averages over 1 week in order to smooth out variations due to reporting breaks on weekends.\n",
    "\n",
    "**Note: All plots are interactive. You can zoom in...**\n",
    "\n",
    "### Total per country"
   ]
  },
  {
   "cell_type": "code",
   "execution_count": null,
   "metadata": {},
   "outputs": [],
   "source": [
    "def trend(s):\n",
    "    if len(s) >= 7:\n",
    "        out = s.replace({0:1}).rolling(7,center=True,win_type='boxcar',min_periods=1).mean()\n",
    "        return pd.Series(out, index=s.index)\n",
    "    else:\n",
    "        return s * np.nan\n",
    "\n",
    "df['daily_trend'] = a2c(df,'daily',trend)\n",
    "df['daily1mio_trend'] = a2c(df,'daily1mio',trend)"
   ]
  },
  {
   "cell_type": "code",
   "execution_count": null,
   "metadata": {},
   "outputs": [],
   "source": [
    "for serie in df.serie.unique():\n",
    "    sel = df.serie == serie\n",
    "    #tmp = df.query(\"country==@country\",)\n",
    "\n",
    "    fig = px.bar(df[sel],x='date',y='daily',color='country',log_y=False,barmode='group',title=serie)\n",
    "    #fig.update_yaxes(matches=None)\n",
    "    for i,country in enumerate(df.country.unique()):\n",
    "        fig.add_scatter(x=df[sel].query('country==@country').date, y=df[sel].query('country==@country').daily_trend, \n",
    "                        mode='lines', name = 'trend',line={'color':{0:'blue',1:'red',2:'green'}[i]})\n",
    "    fig.show()"
   ]
  },
  {
   "cell_type": "markdown",
   "metadata": {},
   "source": [
    "### Per 1 million inhabitants\n",
    "\n",
    "Sweden has currently around 6 deaths per day and 1 million inhabitant. In Switzerland and Denmark the same number is around 2.  "
   ]
  },
  {
   "cell_type": "code",
   "execution_count": null,
   "metadata": {
    "scrolled": false
   },
   "outputs": [],
   "source": [
    "for serie in df.serie.unique():\n",
    "    sel = df.serie == serie\n",
    "    #tmp = df.query(\"country==@country\",)\n",
    "\n",
    "    fig = px.bar(df[sel],x='date',y='daily1mio',color='country',log_y=False,barmode='group',title=serie)\n",
    "    #fig.update_yaxes(matches=None)\n",
    "    for i,country in enumerate(df.country.unique()):\n",
    "        fig.add_scatter(x=df[sel].query('country==@country').date, y=df[sel].query('country==@country').daily1mio_trend, \n",
    "                        mode='lines', name = 'trend',line={'color':{0:'blue',1:'red',2:'green'}[i]})\n",
    "    fig.show()"
   ]
  },
  {
   "cell_type": "code",
   "execution_count": null,
   "metadata": {},
   "outputs": [],
   "source": []
  }
 ],
 "metadata": {
  "kernelspec": {
   "display_name": "Python 3",
   "language": "python",
   "name": "python3"
  },
  "language_info": {
   "codemirror_mode": {
    "name": "ipython",
    "version": 3
   },
   "file_extension": ".py",
   "mimetype": "text/x-python",
   "name": "python",
   "nbconvert_exporter": "python",
   "pygments_lexer": "ipython3",
   "version": "3.8.2"
  }
 },
 "nbformat": 4,
 "nbformat_minor": 2
}
